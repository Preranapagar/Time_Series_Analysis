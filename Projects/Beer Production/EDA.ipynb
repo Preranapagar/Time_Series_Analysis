{
 "cells": [
  {
   "cell_type": "code",
   "execution_count": 1,
   "id": "548f3b61",
   "metadata": {},
   "outputs": [
    {
     "name": "stdout",
     "output_type": "stream",
     "text": [
      "Requirement already satisfied: pandas-datareader in c:\\users\\prerana\\anaconda3\\lib\\site-packages (0.10.0)\n",
      "Requirement already satisfied: requests>=2.19.0 in c:\\users\\prerana\\anaconda3\\lib\\site-packages (from pandas-datareader) (2.28.0)\n",
      "Requirement already satisfied: pandas>=0.23 in c:\\users\\prerana\\anaconda3\\lib\\site-packages (from pandas-datareader) (1.4.2)\n",
      "Requirement already satisfied: lxml in c:\\users\\prerana\\anaconda3\\lib\\site-packages (from pandas-datareader) (4.9.0)\n",
      "Requirement already satisfied: pytz>=2020.1 in c:\\users\\prerana\\anaconda3\\lib\\site-packages (from pandas>=0.23->pandas-datareader) (2022.1)\n",
      "Requirement already satisfied: numpy>=1.18.5 in c:\\users\\prerana\\anaconda3\\lib\\site-packages (from pandas>=0.23->pandas-datareader) (1.22.3)\n",
      "Requirement already satisfied: python-dateutil>=2.8.1 in c:\\users\\prerana\\anaconda3\\lib\\site-packages (from pandas>=0.23->pandas-datareader) (2.8.2)\n",
      "Requirement already satisfied: charset-normalizer~=2.0.0 in c:\\users\\prerana\\anaconda3\\lib\\site-packages (from requests>=2.19.0->pandas-datareader) (2.0.12)\n",
      "Requirement already satisfied: idna<4,>=2.5 in c:\\users\\prerana\\anaconda3\\lib\\site-packages (from requests>=2.19.0->pandas-datareader) (3.3)\n",
      "Requirement already satisfied: certifi>=2017.4.17 in c:\\users\\prerana\\anaconda3\\lib\\site-packages (from requests>=2.19.0->pandas-datareader) (2022.6.15)\n",
      "Requirement already satisfied: urllib3<1.27,>=1.21.1 in c:\\users\\prerana\\anaconda3\\lib\\site-packages (from requests>=2.19.0->pandas-datareader) (1.26.9)\n",
      "Requirement already satisfied: six>=1.5 in c:\\users\\prerana\\anaconda3\\lib\\site-packages (from python-dateutil>=2.8.1->pandas>=0.23->pandas-datareader) (1.16.0)\n"
     ]
    }
   ],
   "source": [
    "!pip install pandas-datareader"
   ]
  },
  {
   "cell_type": "code",
   "execution_count": 2,
   "id": "62e78cf9",
   "metadata": {},
   "outputs": [],
   "source": [
    "import pandas_datareader as pdr\n",
    "import pandas as pd\n",
    "from datetime import datetime"
   ]
  },
  {
   "cell_type": "code",
   "execution_count": 3,
   "id": "cbfdc3e6",
   "metadata": {},
   "outputs": [],
   "source": [
    "df=pdr.get_data_yahoo('TSLA')"
   ]
  },
  {
   "cell_type": "code",
   "execution_count": 4,
   "id": "b54db5f4",
   "metadata": {},
   "outputs": [
    {
     "data": {
      "text/html": [
       "<div>\n",
       "<style scoped>\n",
       "    .dataframe tbody tr th:only-of-type {\n",
       "        vertical-align: middle;\n",
       "    }\n",
       "\n",
       "    .dataframe tbody tr th {\n",
       "        vertical-align: top;\n",
       "    }\n",
       "\n",
       "    .dataframe thead th {\n",
       "        text-align: right;\n",
       "    }\n",
       "</style>\n",
       "<table border=\"1\" class=\"dataframe\">\n",
       "  <thead>\n",
       "    <tr style=\"text-align: right;\">\n",
       "      <th></th>\n",
       "      <th>High</th>\n",
       "      <th>Low</th>\n",
       "      <th>Open</th>\n",
       "      <th>Close</th>\n",
       "      <th>Volume</th>\n",
       "      <th>Adj Close</th>\n",
       "    </tr>\n",
       "    <tr>\n",
       "      <th>Date</th>\n",
       "      <th></th>\n",
       "      <th></th>\n",
       "      <th></th>\n",
       "      <th></th>\n",
       "      <th></th>\n",
       "      <th></th>\n",
       "    </tr>\n",
       "  </thead>\n",
       "  <tbody>\n",
       "    <tr>\n",
       "      <th>2017-07-10</th>\n",
       "      <td>63.588001</td>\n",
       "      <td>60.625999</td>\n",
       "      <td>62.580002</td>\n",
       "      <td>63.209999</td>\n",
       "      <td>69104500.0</td>\n",
       "      <td>63.209999</td>\n",
       "    </tr>\n",
       "    <tr>\n",
       "      <th>2017-07-11</th>\n",
       "      <td>65.456001</td>\n",
       "      <td>62.860001</td>\n",
       "      <td>63.200001</td>\n",
       "      <td>65.444000</td>\n",
       "      <td>57797000.0</td>\n",
       "      <td>65.444000</td>\n",
       "    </tr>\n",
       "    <tr>\n",
       "      <th>2017-07-12</th>\n",
       "      <td>66.620003</td>\n",
       "      <td>64.900002</td>\n",
       "      <td>66.080002</td>\n",
       "      <td>65.903999</td>\n",
       "      <td>51730500.0</td>\n",
       "      <td>65.903999</td>\n",
       "    </tr>\n",
       "    <tr>\n",
       "      <th>2017-07-13</th>\n",
       "      <td>66.320000</td>\n",
       "      <td>63.993999</td>\n",
       "      <td>66.022003</td>\n",
       "      <td>64.681999</td>\n",
       "      <td>42972500.0</td>\n",
       "      <td>64.681999</td>\n",
       "    </tr>\n",
       "    <tr>\n",
       "      <th>2017-07-14</th>\n",
       "      <td>65.683998</td>\n",
       "      <td>64.244003</td>\n",
       "      <td>64.638000</td>\n",
       "      <td>65.556000</td>\n",
       "      <td>28126000.0</td>\n",
       "      <td>65.556000</td>\n",
       "    </tr>\n",
       "  </tbody>\n",
       "</table>\n",
       "</div>"
      ],
      "text/plain": [
       "                 High        Low       Open      Close      Volume  Adj Close\n",
       "Date                                                                         \n",
       "2017-07-10  63.588001  60.625999  62.580002  63.209999  69104500.0  63.209999\n",
       "2017-07-11  65.456001  62.860001  63.200001  65.444000  57797000.0  65.444000\n",
       "2017-07-12  66.620003  64.900002  66.080002  65.903999  51730500.0  65.903999\n",
       "2017-07-13  66.320000  63.993999  66.022003  64.681999  42972500.0  64.681999\n",
       "2017-07-14  65.683998  64.244003  64.638000  65.556000  28126000.0  65.556000"
      ]
     },
     "execution_count": 4,
     "metadata": {},
     "output_type": "execute_result"
    }
   ],
   "source": [
    "df.head()"
   ]
  },
  {
   "cell_type": "code",
   "execution_count": 5,
   "id": "d56a2882",
   "metadata": {},
   "outputs": [
    {
     "data": {
      "text/html": [
       "<div>\n",
       "<style scoped>\n",
       "    .dataframe tbody tr th:only-of-type {\n",
       "        vertical-align: middle;\n",
       "    }\n",
       "\n",
       "    .dataframe tbody tr th {\n",
       "        vertical-align: top;\n",
       "    }\n",
       "\n",
       "    .dataframe thead th {\n",
       "        text-align: right;\n",
       "    }\n",
       "</style>\n",
       "<table border=\"1\" class=\"dataframe\">\n",
       "  <thead>\n",
       "    <tr style=\"text-align: right;\">\n",
       "      <th></th>\n",
       "      <th>High</th>\n",
       "      <th>Low</th>\n",
       "      <th>Open</th>\n",
       "      <th>Close</th>\n",
       "      <th>Volume</th>\n",
       "      <th>Adj Close</th>\n",
       "    </tr>\n",
       "    <tr>\n",
       "      <th>Date</th>\n",
       "      <th></th>\n",
       "      <th></th>\n",
       "      <th></th>\n",
       "      <th></th>\n",
       "      <th></th>\n",
       "      <th></th>\n",
       "    </tr>\n",
       "  </thead>\n",
       "  <tbody>\n",
       "    <tr>\n",
       "      <th>2022-07-01</th>\n",
       "      <td>690.690002</td>\n",
       "      <td>666.359985</td>\n",
       "      <td>681.000000</td>\n",
       "      <td>681.789978</td>\n",
       "      <td>24781500.0</td>\n",
       "      <td>681.789978</td>\n",
       "    </tr>\n",
       "    <tr>\n",
       "      <th>2022-07-05</th>\n",
       "      <td>699.440002</td>\n",
       "      <td>648.500000</td>\n",
       "      <td>669.000000</td>\n",
       "      <td>699.200012</td>\n",
       "      <td>28193700.0</td>\n",
       "      <td>699.200012</td>\n",
       "    </tr>\n",
       "    <tr>\n",
       "      <th>2022-07-06</th>\n",
       "      <td>703.690002</td>\n",
       "      <td>681.559998</td>\n",
       "      <td>692.340027</td>\n",
       "      <td>695.200012</td>\n",
       "      <td>23951200.0</td>\n",
       "      <td>695.200012</td>\n",
       "    </tr>\n",
       "    <tr>\n",
       "      <th>2022-07-07</th>\n",
       "      <td>736.090027</td>\n",
       "      <td>696.630005</td>\n",
       "      <td>701.760010</td>\n",
       "      <td>733.630005</td>\n",
       "      <td>27310200.0</td>\n",
       "      <td>733.630005</td>\n",
       "    </tr>\n",
       "    <tr>\n",
       "      <th>2022-07-08</th>\n",
       "      <td>764.940002</td>\n",
       "      <td>723.479980</td>\n",
       "      <td>727.000000</td>\n",
       "      <td>752.289978</td>\n",
       "      <td>33343700.0</td>\n",
       "      <td>752.289978</td>\n",
       "    </tr>\n",
       "  </tbody>\n",
       "</table>\n",
       "</div>"
      ],
      "text/plain": [
       "                  High         Low        Open       Close      Volume  \\\n",
       "Date                                                                     \n",
       "2022-07-01  690.690002  666.359985  681.000000  681.789978  24781500.0   \n",
       "2022-07-05  699.440002  648.500000  669.000000  699.200012  28193700.0   \n",
       "2022-07-06  703.690002  681.559998  692.340027  695.200012  23951200.0   \n",
       "2022-07-07  736.090027  696.630005  701.760010  733.630005  27310200.0   \n",
       "2022-07-08  764.940002  723.479980  727.000000  752.289978  33343700.0   \n",
       "\n",
       "             Adj Close  \n",
       "Date                    \n",
       "2022-07-01  681.789978  \n",
       "2022-07-05  699.200012  \n",
       "2022-07-06  695.200012  \n",
       "2022-07-07  733.630005  \n",
       "2022-07-08  752.289978  "
      ]
     },
     "execution_count": 5,
     "metadata": {},
     "output_type": "execute_result"
    }
   ],
   "source": [
    "df.tail()"
   ]
  },
  {
   "cell_type": "code",
   "execution_count": 6,
   "id": "4049139b",
   "metadata": {},
   "outputs": [
    {
     "data": {
      "text/plain": [
       "<AxesSubplot:xlabel='Date'>"
      ]
     },
     "execution_count": 6,
     "metadata": {},
     "output_type": "execute_result"
    },
    {
     "data": {
      "image/png": "[encoded data removed]",
      "text/plain": [
       "<Figure size 864x288 with 1 Axes>"
      ]
     },
     "metadata": {
      "needs_background": "light"
     },
     "output_type": "display_data"
    }
   ],
   "source": [
    "df['High'].plot(figsize=(12,4))"
   ]
  },
  {
   "cell_type": "code",
   "execution_count": 7,
   "id": "a35d4fd9",
   "metadata": {},
   "outputs": [
    {
     "data": {
      "text/plain": [
       "<AxesSubplot:xlabel='Date'>"
      ]
     },
     "execution_count": 7,
     "metadata": {},
     "output_type": "execute_result"
    },
    {
     "data": {
      "image/png": "[encoded data removed]",
      "text/plain": [
       "<Figure size 864x288 with 1 Axes>"
      ]
     },
     "metadata": {
      "needs_background": "light"
     },
     "output_type": "display_data"
    }
   ],
   "source": [
    "df['High'].plot(xlim=['2020-01-01','2022-01-01'],ylim=(600,1300),figsize=(12,4),c='pink',ls='--')"
   ]
  },
  {
   "cell_type": "code",
   "execution_count": 8,
   "id": "1d802206",
   "metadata": {},
   "outputs": [
    {
     "data": {
      "text/plain": [
       "DatetimeIndex(['2020-09-10', '2020-09-11'], dtype='datetime64[ns]', name='Date', freq=None)"
      ]
     },
     "execution_count": 8,
     "metadata": {},
     "output_type": "execute_result"
    }
   ],
   "source": [
    "df.loc['2020-09-10':'2020-09-11'].index"
   ]
  },
  {
   "cell_type": "code",
   "execution_count": 9,
   "id": "52b70025",
   "metadata": {},
   "outputs": [],
   "source": [
    "import matplotlib.pyplot as plt\n",
    "%matplotlib inline"
   ]
  },
  {
   "cell_type": "code",
   "execution_count": 10,
   "id": "f39e07f1",
   "metadata": {},
   "outputs": [],
   "source": [
    "index=df.loc['2020-01-01':'2021-09-01'].index\n",
    "share_open=df.loc['2020-01-01':'2021-09-01']['Open']"
   ]
  },
  {
   "cell_type": "code",
   "execution_count": 11,
   "id": "e3a3740a",
   "metadata": {},
   "outputs": [
    {
     "data": {
      "text/plain": [
       "[<matplotlib.lines.Line2D at 0x1a71575a970>]"
      ]
     },
     "execution_count": 11,
     "metadata": {},
     "output_type": "execute_result"
    },
    {
     "data": {
      "image/png": "[encoded data removed]",
      "text/plain": [
       "<Figure size 432x288 with 1 Axes>"
      ]
     },
     "metadata": {
      "needs_background": "light"
     },
     "output_type": "display_data"
    }
   ],
   "source": [
    "figure,axis=plt.subplots()\n",
    "plt.tight_layout()\n",
    "#preventing overlapping\n",
    "figure.autofmt_xdate()\n",
    "axis.plot(index,share_open)\n"
   ]
  },
  {
   "cell_type": "code",
   "execution_count": 12,
   "id": "a347c181",
   "metadata": {},
   "outputs": [],
   "source": [
    "df=df.reset_index()"
   ]
  },
  {
   "cell_type": "code",
   "execution_count": 13,
   "id": "1744caac",
   "metadata": {},
   "outputs": [
    {
     "data": {
      "text/html": [
       "<div>\n",
       "<style scoped>\n",
       "    .dataframe tbody tr th:only-of-type {\n",
       "        vertical-align: middle;\n",
       "    }\n",
       "\n",
       "    .dataframe tbody tr th {\n",
       "        vertical-align: top;\n",
       "    }\n",
       "\n",
       "    .dataframe thead th {\n",
       "        text-align: right;\n",
       "    }\n",
       "</style>\n",
       "<table border=\"1\" class=\"dataframe\">\n",
       "  <thead>\n",
       "    <tr style=\"text-align: right;\">\n",
       "      <th></th>\n",
       "      <th>Date</th>\n",
       "      <th>High</th>\n",
       "      <th>Low</th>\n",
       "      <th>Open</th>\n",
       "      <th>Close</th>\n",
       "      <th>Volume</th>\n",
       "      <th>Adj Close</th>\n",
       "    </tr>\n",
       "  </thead>\n",
       "  <tbody>\n",
       "    <tr>\n",
       "      <th>0</th>\n",
       "      <td>2017-07-10</td>\n",
       "      <td>63.588001</td>\n",
       "      <td>60.625999</td>\n",
       "      <td>62.580002</td>\n",
       "      <td>63.209999</td>\n",
       "      <td>69104500.0</td>\n",
       "      <td>63.209999</td>\n",
       "    </tr>\n",
       "    <tr>\n",
       "      <th>1</th>\n",
       "      <td>2017-07-11</td>\n",
       "      <td>65.456001</td>\n",
       "      <td>62.860001</td>\n",
       "      <td>63.200001</td>\n",
       "      <td>65.444000</td>\n",
       "      <td>57797000.0</td>\n",
       "      <td>65.444000</td>\n",
       "    </tr>\n",
       "    <tr>\n",
       "      <th>2</th>\n",
       "      <td>2017-07-12</td>\n",
       "      <td>66.620003</td>\n",
       "      <td>64.900002</td>\n",
       "      <td>66.080002</td>\n",
       "      <td>65.903999</td>\n",
       "      <td>51730500.0</td>\n",
       "      <td>65.903999</td>\n",
       "    </tr>\n",
       "    <tr>\n",
       "      <th>3</th>\n",
       "      <td>2017-07-13</td>\n",
       "      <td>66.320000</td>\n",
       "      <td>63.993999</td>\n",
       "      <td>66.022003</td>\n",
       "      <td>64.681999</td>\n",
       "      <td>42972500.0</td>\n",
       "      <td>64.681999</td>\n",
       "    </tr>\n",
       "    <tr>\n",
       "      <th>4</th>\n",
       "      <td>2017-07-14</td>\n",
       "      <td>65.683998</td>\n",
       "      <td>64.244003</td>\n",
       "      <td>64.638000</td>\n",
       "      <td>65.556000</td>\n",
       "      <td>28126000.0</td>\n",
       "      <td>65.556000</td>\n",
       "    </tr>\n",
       "    <tr>\n",
       "      <th>...</th>\n",
       "      <td>...</td>\n",
       "      <td>...</td>\n",
       "      <td>...</td>\n",
       "      <td>...</td>\n",
       "      <td>...</td>\n",
       "      <td>...</td>\n",
       "      <td>...</td>\n",
       "    </tr>\n",
       "    <tr>\n",
       "      <th>1254</th>\n",
       "      <td>2022-07-01</td>\n",
       "      <td>690.690002</td>\n",
       "      <td>666.359985</td>\n",
       "      <td>681.000000</td>\n",
       "      <td>681.789978</td>\n",
       "      <td>24781500.0</td>\n",
       "      <td>681.789978</td>\n",
       "    </tr>\n",
       "    <tr>\n",
       "      <th>1255</th>\n",
       "      <td>2022-07-05</td>\n",
       "      <td>699.440002</td>\n",
       "      <td>648.500000</td>\n",
       "      <td>669.000000</td>\n",
       "      <td>699.200012</td>\n",
       "      <td>28193700.0</td>\n",
       "      <td>699.200012</td>\n",
       "    </tr>\n",
       "    <tr>\n",
       "      <th>1256</th>\n",
       "      <td>2022-07-06</td>\n",
       "      <td>703.690002</td>\n",
       "      <td>681.559998</td>\n",
       "      <td>692.340027</td>\n",
       "      <td>695.200012</td>\n",
       "      <td>23951200.0</td>\n",
       "      <td>695.200012</td>\n",
       "    </tr>\n",
       "    <tr>\n",
       "      <th>1257</th>\n",
       "      <td>2022-07-07</td>\n",
       "      <td>736.090027</td>\n",
       "      <td>696.630005</td>\n",
       "      <td>701.760010</td>\n",
       "      <td>733.630005</td>\n",
       "      <td>27310200.0</td>\n",
       "      <td>733.630005</td>\n",
       "    </tr>\n",
       "    <tr>\n",
       "      <th>1258</th>\n",
       "      <td>2022-07-08</td>\n",
       "      <td>764.940002</td>\n",
       "      <td>723.479980</td>\n",
       "      <td>727.000000</td>\n",
       "      <td>752.289978</td>\n",
       "      <td>33343700.0</td>\n",
       "      <td>752.289978</td>\n",
       "    </tr>\n",
       "  </tbody>\n",
       "</table>\n",
       "<p>1259 rows × 7 columns</p>\n",
       "</div>"
      ],
      "text/plain": [
       "           Date        High         Low        Open       Close      Volume  \\\n",
       "0    2017-07-10   63.588001   60.625999   62.580002   63.209999  69104500.0   \n",
       "1    2017-07-11   65.456001   62.860001   63.200001   65.444000  57797000.0   \n",
       "2    2017-07-12   66.620003   64.900002   66.080002   65.903999  51730500.0   \n",
       "3    2017-07-13   66.320000   63.993999   66.022003   64.681999  42972500.0   \n",
       "4    2017-07-14   65.683998   64.244003   64.638000   65.556000  28126000.0   \n",
       "...         ...         ...         ...         ...         ...         ...   \n",
       "1254 2022-07-01  690.690002  666.359985  681.000000  681.789978  24781500.0   \n",
       "1255 2022-07-05  699.440002  648.500000  669.000000  699.200012  28193700.0   \n",
       "1256 2022-07-06  703.690002  681.559998  692.340027  695.200012  23951200.0   \n",
       "1257 2022-07-07  736.090027  696.630005  701.760010  733.630005  27310200.0   \n",
       "1258 2022-07-08  764.940002  723.479980  727.000000  752.289978  33343700.0   \n",
       "\n",
       "       Adj Close  \n",
       "0      63.209999  \n",
       "1      65.444000  \n",
       "2      65.903999  \n",
       "3      64.681999  \n",
       "4      65.556000  \n",
       "...          ...  \n",
       "1254  681.789978  \n",
       "1255  699.200012  \n",
       "1256  695.200012  \n",
       "1257  733.630005  \n",
       "1258  752.289978  \n",
       "\n",
       "[1259 rows x 7 columns]"
      ]
     },
     "execution_count": 13,
     "metadata": {},
     "output_type": "execute_result"
    }
   ],
   "source": [
    "df"
   ]
  },
  {
   "cell_type": "code",
   "execution_count": 14,
   "id": "acc57424",
   "metadata": {},
   "outputs": [
    {
     "name": "stdout",
     "output_type": "stream",
     "text": [
      "<class 'pandas.core.frame.DataFrame'>\n",
      "RangeIndex: 1259 entries, 0 to 1258\n",
      "Data columns (total 7 columns):\n",
      " #   Column     Non-Null Count  Dtype         \n",
      "---  ------     --------------  -----         \n",
      " 0   Date       1259 non-null   datetime64[ns]\n",
      " 1   High       1259 non-null   float64       \n",
      " 2   Low        1259 non-null   float64       \n",
      " 3   Open       1259 non-null   float64       \n",
      " 4   Close      1259 non-null   float64       \n",
      " 5   Volume     1259 non-null   float64       \n",
      " 6   Adj Close  1259 non-null   float64       \n",
      "dtypes: datetime64[ns](1), float64(6)\n",
      "memory usage: 69.0 KB\n"
     ]
    }
   ],
   "source": [
    "df.info()"
   ]
  },
  {
   "cell_type": "code",
   "execution_count": 15,
   "id": "ed6bfacf",
   "metadata": {},
   "outputs": [
    {
     "data": {
      "text/plain": [
       "0      2017-07-10\n",
       "1      2017-07-11\n",
       "2      2017-07-12\n",
       "3      2017-07-13\n",
       "4      2017-07-14\n",
       "          ...    \n",
       "1254   2022-07-01\n",
       "1255   2022-07-05\n",
       "1256   2022-07-06\n",
       "1257   2022-07-07\n",
       "1258   2022-07-08\n",
       "Name: Date, Length: 1259, dtype: datetime64[ns]"
      ]
     },
     "execution_count": 15,
     "metadata": {},
     "output_type": "execute_result"
    }
   ],
   "source": [
    "pd.to_datetime(df['Date'])"
   ]
  },
  {
   "cell_type": "code",
   "execution_count": 18,
   "id": "e2e01a16",
   "metadata": {},
   "outputs": [
    {
     "data": {
      "text/html": [
       "<div>\n",
       "<style scoped>\n",
       "    .dataframe tbody tr th:only-of-type {\n",
       "        vertical-align: middle;\n",
       "    }\n",
       "\n",
       "    .dataframe tbody tr th {\n",
       "        vertical-align: top;\n",
       "    }\n",
       "\n",
       "    .dataframe thead th {\n",
       "        text-align: right;\n",
       "    }\n",
       "</style>\n",
       "<table border=\"1\" class=\"dataframe\">\n",
       "  <thead>\n",
       "    <tr style=\"text-align: right;\">\n",
       "      <th></th>\n",
       "      <th>Date</th>\n",
       "      <th>High</th>\n",
       "      <th>Low</th>\n",
       "      <th>Open</th>\n",
       "      <th>Close</th>\n",
       "      <th>Volume</th>\n",
       "      <th>Adj Close</th>\n",
       "    </tr>\n",
       "    <tr>\n",
       "      <th>Date</th>\n",
       "      <th></th>\n",
       "      <th></th>\n",
       "      <th></th>\n",
       "      <th></th>\n",
       "      <th></th>\n",
       "      <th></th>\n",
       "      <th></th>\n",
       "    </tr>\n",
       "  </thead>\n",
       "  <tbody>\n",
       "    <tr>\n",
       "      <th>2017-07-10</th>\n",
       "      <td>2017-07-10</td>\n",
       "      <td>63.588001</td>\n",
       "      <td>60.625999</td>\n",
       "      <td>62.580002</td>\n",
       "      <td>63.209999</td>\n",
       "      <td>69104500.0</td>\n",
       "      <td>63.209999</td>\n",
       "    </tr>\n",
       "    <tr>\n",
       "      <th>2017-07-11</th>\n",
       "      <td>2017-07-11</td>\n",
       "      <td>65.456001</td>\n",
       "      <td>62.860001</td>\n",
       "      <td>63.200001</td>\n",
       "      <td>65.444000</td>\n",
       "      <td>57797000.0</td>\n",
       "      <td>65.444000</td>\n",
       "    </tr>\n",
       "    <tr>\n",
       "      <th>2017-07-12</th>\n",
       "      <td>2017-07-12</td>\n",
       "      <td>66.620003</td>\n",
       "      <td>64.900002</td>\n",
       "      <td>66.080002</td>\n",
       "      <td>65.903999</td>\n",
       "      <td>51730500.0</td>\n",
       "      <td>65.903999</td>\n",
       "    </tr>\n",
       "    <tr>\n",
       "      <th>2017-07-13</th>\n",
       "      <td>2017-07-13</td>\n",
       "      <td>66.320000</td>\n",
       "      <td>63.993999</td>\n",
       "      <td>66.022003</td>\n",
       "      <td>64.681999</td>\n",
       "      <td>42972500.0</td>\n",
       "      <td>64.681999</td>\n",
       "    </tr>\n",
       "    <tr>\n",
       "      <th>2017-07-14</th>\n",
       "      <td>2017-07-14</td>\n",
       "      <td>65.683998</td>\n",
       "      <td>64.244003</td>\n",
       "      <td>64.638000</td>\n",
       "      <td>65.556000</td>\n",
       "      <td>28126000.0</td>\n",
       "      <td>65.556000</td>\n",
       "    </tr>\n",
       "    <tr>\n",
       "      <th>...</th>\n",
       "      <td>...</td>\n",
       "      <td>...</td>\n",
       "      <td>...</td>\n",
       "      <td>...</td>\n",
       "      <td>...</td>\n",
       "      <td>...</td>\n",
       "      <td>...</td>\n",
       "    </tr>\n",
       "    <tr>\n",
       "      <th>2022-07-01</th>\n",
       "      <td>2022-07-01</td>\n",
       "      <td>690.690002</td>\n",
       "      <td>666.359985</td>\n",
       "      <td>681.000000</td>\n",
       "      <td>681.789978</td>\n",
       "      <td>24781500.0</td>\n",
       "      <td>681.789978</td>\n",
       "    </tr>\n",
       "    <tr>\n",
       "      <th>2022-07-05</th>\n",
       "      <td>2022-07-05</td>\n",
       "      <td>699.440002</td>\n",
       "      <td>648.500000</td>\n",
       "      <td>669.000000</td>\n",
       "      <td>699.200012</td>\n",
       "      <td>28193700.0</td>\n",
       "      <td>699.200012</td>\n",
       "    </tr>\n",
       "    <tr>\n",
       "      <th>2022-07-06</th>\n",
       "      <td>2022-07-06</td>\n",
       "      <td>703.690002</td>\n",
       "      <td>681.559998</td>\n",
       "      <td>692.340027</td>\n",
       "      <td>695.200012</td>\n",
       "      <td>23951200.0</td>\n",
       "      <td>695.200012</td>\n",
       "    </tr>\n",
       "    <tr>\n",
       "      <th>2022-07-07</th>\n",
       "      <td>2022-07-07</td>\n",
       "      <td>736.090027</td>\n",
       "      <td>696.630005</td>\n",
       "      <td>701.760010</td>\n",
       "      <td>733.630005</td>\n",
       "      <td>27310200.0</td>\n",
       "      <td>733.630005</td>\n",
       "    </tr>\n",
       "    <tr>\n",
       "      <th>2022-07-08</th>\n",
       "      <td>2022-07-08</td>\n",
       "      <td>764.940002</td>\n",
       "      <td>723.479980</td>\n",
       "      <td>727.000000</td>\n",
       "      <td>752.289978</td>\n",
       "      <td>33343700.0</td>\n",
       "      <td>752.289978</td>\n",
       "    </tr>\n",
       "  </tbody>\n",
       "</table>\n",
       "<p>1259 rows × 7 columns</p>\n",
       "</div>"
      ],
      "text/plain": [
       "                 Date        High         Low        Open       Close  \\\n",
       "Date                                                                    \n",
       "2017-07-10 2017-07-10   63.588001   60.625999   62.580002   63.209999   \n",
       "2017-07-11 2017-07-11   65.456001   62.860001   63.200001   65.444000   \n",
       "2017-07-12 2017-07-12   66.620003   64.900002   66.080002   65.903999   \n",
       "2017-07-13 2017-07-13   66.320000   63.993999   66.022003   64.681999   \n",
       "2017-07-14 2017-07-14   65.683998   64.244003   64.638000   65.556000   \n",
       "...               ...         ...         ...         ...         ...   \n",
       "2022-07-01 2022-07-01  690.690002  666.359985  681.000000  681.789978   \n",
       "2022-07-05 2022-07-05  699.440002  648.500000  669.000000  699.200012   \n",
       "2022-07-06 2022-07-06  703.690002  681.559998  692.340027  695.200012   \n",
       "2022-07-07 2022-07-07  736.090027  696.630005  701.760010  733.630005   \n",
       "2022-07-08 2022-07-08  764.940002  723.479980  727.000000  752.289978   \n",
       "\n",
       "                Volume   Adj Close  \n",
       "Date                                \n",
       "2017-07-10  69104500.0   63.209999  \n",
       "2017-07-11  57797000.0   65.444000  \n",
       "2017-07-12  51730500.0   65.903999  \n",
       "2017-07-13  42972500.0   64.681999  \n",
       "2017-07-14  28126000.0   65.556000  \n",
       "...                ...         ...  \n",
       "2022-07-01  24781500.0  681.789978  \n",
       "2022-07-05  28193700.0  699.200012  \n",
       "2022-07-06  23951200.0  695.200012  \n",
       "2022-07-07  27310200.0  733.630005  \n",
       "2022-07-08  33343700.0  752.289978  \n",
       "\n",
       "[1259 rows x 7 columns]"
      ]
     },
     "execution_count": 18,
     "metadata": {},
     "output_type": "execute_result"
    }
   ],
   "source": [
    "df.set_index(df['Date'],drop=True)"
   ]
  },
  {
   "cell_type": "code",
   "execution_count": 19,
   "id": "2b8268ec",
   "metadata": {},
   "outputs": [
    {
     "data": {
      "text/html": [
       "<div>\n",
       "<style scoped>\n",
       "    .dataframe tbody tr th:only-of-type {\n",
       "        vertical-align: middle;\n",
       "    }\n",
       "\n",
       "    .dataframe tbody tr th {\n",
       "        vertical-align: top;\n",
       "    }\n",
       "\n",
       "    .dataframe thead th {\n",
       "        text-align: right;\n",
       "    }\n",
       "</style>\n",
       "<table border=\"1\" class=\"dataframe\">\n",
       "  <thead>\n",
       "    <tr style=\"text-align: right;\">\n",
       "      <th></th>\n",
       "      <th>index</th>\n",
       "      <th>Date</th>\n",
       "      <th>High</th>\n",
       "      <th>Low</th>\n",
       "      <th>Open</th>\n",
       "      <th>Close</th>\n",
       "      <th>Volume</th>\n",
       "      <th>Adj Close</th>\n",
       "    </tr>\n",
       "  </thead>\n",
       "  <tbody>\n",
       "    <tr>\n",
       "      <th>0</th>\n",
       "      <td>0</td>\n",
       "      <td>2017-07-10</td>\n",
       "      <td>63.588001</td>\n",
       "      <td>60.625999</td>\n",
       "      <td>62.580002</td>\n",
       "      <td>63.209999</td>\n",
       "      <td>69104500.0</td>\n",
       "      <td>63.209999</td>\n",
       "    </tr>\n",
       "    <tr>\n",
       "      <th>1</th>\n",
       "      <td>1</td>\n",
       "      <td>2017-07-11</td>\n",
       "      <td>65.456001</td>\n",
       "      <td>62.860001</td>\n",
       "      <td>63.200001</td>\n",
       "      <td>65.444000</td>\n",
       "      <td>57797000.0</td>\n",
       "      <td>65.444000</td>\n",
       "    </tr>\n",
       "    <tr>\n",
       "      <th>2</th>\n",
       "      <td>2</td>\n",
       "      <td>2017-07-12</td>\n",
       "      <td>66.620003</td>\n",
       "      <td>64.900002</td>\n",
       "      <td>66.080002</td>\n",
       "      <td>65.903999</td>\n",
       "      <td>51730500.0</td>\n",
       "      <td>65.903999</td>\n",
       "    </tr>\n",
       "    <tr>\n",
       "      <th>3</th>\n",
       "      <td>3</td>\n",
       "      <td>2017-07-13</td>\n",
       "      <td>66.320000</td>\n",
       "      <td>63.993999</td>\n",
       "      <td>66.022003</td>\n",
       "      <td>64.681999</td>\n",
       "      <td>42972500.0</td>\n",
       "      <td>64.681999</td>\n",
       "    </tr>\n",
       "    <tr>\n",
       "      <th>4</th>\n",
       "      <td>4</td>\n",
       "      <td>2017-07-14</td>\n",
       "      <td>65.683998</td>\n",
       "      <td>64.244003</td>\n",
       "      <td>64.638000</td>\n",
       "      <td>65.556000</td>\n",
       "      <td>28126000.0</td>\n",
       "      <td>65.556000</td>\n",
       "    </tr>\n",
       "    <tr>\n",
       "      <th>...</th>\n",
       "      <td>...</td>\n",
       "      <td>...</td>\n",
       "      <td>...</td>\n",
       "      <td>...</td>\n",
       "      <td>...</td>\n",
       "      <td>...</td>\n",
       "      <td>...</td>\n",
       "      <td>...</td>\n",
       "    </tr>\n",
       "    <tr>\n",
       "      <th>1254</th>\n",
       "      <td>1254</td>\n",
       "      <td>2022-07-01</td>\n",
       "      <td>690.690002</td>\n",
       "      <td>666.359985</td>\n",
       "      <td>681.000000</td>\n",
       "      <td>681.789978</td>\n",
       "      <td>24781500.0</td>\n",
       "      <td>681.789978</td>\n",
       "    </tr>\n",
       "    <tr>\n",
       "      <th>1255</th>\n",
       "      <td>1255</td>\n",
       "      <td>2022-07-05</td>\n",
       "      <td>699.440002</td>\n",
       "      <td>648.500000</td>\n",
       "      <td>669.000000</td>\n",
       "      <td>699.200012</td>\n",
       "      <td>28193700.0</td>\n",
       "      <td>699.200012</td>\n",
       "    </tr>\n",
       "    <tr>\n",
       "      <th>1256</th>\n",
       "      <td>1256</td>\n",
       "      <td>2022-07-06</td>\n",
       "      <td>703.690002</td>\n",
       "      <td>681.559998</td>\n",
       "      <td>692.340027</td>\n",
       "      <td>695.200012</td>\n",
       "      <td>23951200.0</td>\n",
       "      <td>695.200012</td>\n",
       "    </tr>\n",
       "    <tr>\n",
       "      <th>1257</th>\n",
       "      <td>1257</td>\n",
       "      <td>2022-07-07</td>\n",
       "      <td>736.090027</td>\n",
       "      <td>696.630005</td>\n",
       "      <td>701.760010</td>\n",
       "      <td>733.630005</td>\n",
       "      <td>27310200.0</td>\n",
       "      <td>733.630005</td>\n",
       "    </tr>\n",
       "    <tr>\n",
       "      <th>1258</th>\n",
       "      <td>1258</td>\n",
       "      <td>2022-07-08</td>\n",
       "      <td>764.940002</td>\n",
       "      <td>723.479980</td>\n",
       "      <td>727.000000</td>\n",
       "      <td>752.289978</td>\n",
       "      <td>33343700.0</td>\n",
       "      <td>752.289978</td>\n",
       "    </tr>\n",
       "  </tbody>\n",
       "</table>\n",
       "<p>1259 rows × 8 columns</p>\n",
       "</div>"
      ],
      "text/plain": [
       "      index       Date        High         Low        Open       Close  \\\n",
       "0         0 2017-07-10   63.588001   60.625999   62.580002   63.209999   \n",
       "1         1 2017-07-11   65.456001   62.860001   63.200001   65.444000   \n",
       "2         2 2017-07-12   66.620003   64.900002   66.080002   65.903999   \n",
       "3         3 2017-07-13   66.320000   63.993999   66.022003   64.681999   \n",
       "4         4 2017-07-14   65.683998   64.244003   64.638000   65.556000   \n",
       "...     ...        ...         ...         ...         ...         ...   \n",
       "1254   1254 2022-07-01  690.690002  666.359985  681.000000  681.789978   \n",
       "1255   1255 2022-07-05  699.440002  648.500000  669.000000  699.200012   \n",
       "1256   1256 2022-07-06  703.690002  681.559998  692.340027  695.200012   \n",
       "1257   1257 2022-07-07  736.090027  696.630005  701.760010  733.630005   \n",
       "1258   1258 2022-07-08  764.940002  723.479980  727.000000  752.289978   \n",
       "\n",
       "          Volume   Adj Close  \n",
       "0     69104500.0   63.209999  \n",
       "1     57797000.0   65.444000  \n",
       "2     51730500.0   65.903999  \n",
       "3     42972500.0   64.681999  \n",
       "4     28126000.0   65.556000  \n",
       "...          ...         ...  \n",
       "1254  24781500.0  681.789978  \n",
       "1255  28193700.0  699.200012  \n",
       "1256  23951200.0  695.200012  \n",
       "1257  27310200.0  733.630005  \n",
       "1258  33343700.0  752.289978  \n",
       "\n",
       "[1259 rows x 8 columns]"
      ]
     },
     "execution_count": 19,
     "metadata": {},
     "output_type": "execute_result"
    }
   ],
   "source": [
    " df.reset_index()"
   ]
  },
  {
   "cell_type": "code",
   "execution_count": 27,
   "id": "e11a7bfd",
   "metadata": {},
   "outputs": [],
   "source": [
    "df=df.set_index('Date',drop=True)"
   ]
  },
  {
   "cell_type": "code",
   "execution_count": 28,
   "id": "5136d9a8",
   "metadata": {},
   "outputs": [
    {
     "data": {
      "text/html": [
       "<div>\n",
       "<style scoped>\n",
       "    .dataframe tbody tr th:only-of-type {\n",
       "        vertical-align: middle;\n",
       "    }\n",
       "\n",
       "    .dataframe tbody tr th {\n",
       "        vertical-align: top;\n",
       "    }\n",
       "\n",
       "    .dataframe thead th {\n",
       "        text-align: right;\n",
       "    }\n",
       "</style>\n",
       "<table border=\"1\" class=\"dataframe\">\n",
       "  <thead>\n",
       "    <tr style=\"text-align: right;\">\n",
       "      <th></th>\n",
       "      <th>High</th>\n",
       "      <th>Low</th>\n",
       "      <th>Open</th>\n",
       "      <th>Close</th>\n",
       "      <th>Volume</th>\n",
       "      <th>Adj Close</th>\n",
       "    </tr>\n",
       "    <tr>\n",
       "      <th>Date</th>\n",
       "      <th></th>\n",
       "      <th></th>\n",
       "      <th></th>\n",
       "      <th></th>\n",
       "      <th></th>\n",
       "      <th></th>\n",
       "    </tr>\n",
       "  </thead>\n",
       "  <tbody>\n",
       "    <tr>\n",
       "      <th>2017-07-10</th>\n",
       "      <td>63.588001</td>\n",
       "      <td>60.625999</td>\n",
       "      <td>62.580002</td>\n",
       "      <td>63.209999</td>\n",
       "      <td>69104500.0</td>\n",
       "      <td>63.209999</td>\n",
       "    </tr>\n",
       "    <tr>\n",
       "      <th>2017-07-11</th>\n",
       "      <td>65.456001</td>\n",
       "      <td>62.860001</td>\n",
       "      <td>63.200001</td>\n",
       "      <td>65.444000</td>\n",
       "      <td>57797000.0</td>\n",
       "      <td>65.444000</td>\n",
       "    </tr>\n",
       "    <tr>\n",
       "      <th>2017-07-12</th>\n",
       "      <td>66.620003</td>\n",
       "      <td>64.900002</td>\n",
       "      <td>66.080002</td>\n",
       "      <td>65.903999</td>\n",
       "      <td>51730500.0</td>\n",
       "      <td>65.903999</td>\n",
       "    </tr>\n",
       "    <tr>\n",
       "      <th>2017-07-13</th>\n",
       "      <td>66.320000</td>\n",
       "      <td>63.993999</td>\n",
       "      <td>66.022003</td>\n",
       "      <td>64.681999</td>\n",
       "      <td>42972500.0</td>\n",
       "      <td>64.681999</td>\n",
       "    </tr>\n",
       "    <tr>\n",
       "      <th>2017-07-14</th>\n",
       "      <td>65.683998</td>\n",
       "      <td>64.244003</td>\n",
       "      <td>64.638000</td>\n",
       "      <td>65.556000</td>\n",
       "      <td>28126000.0</td>\n",
       "      <td>65.556000</td>\n",
       "    </tr>\n",
       "    <tr>\n",
       "      <th>...</th>\n",
       "      <td>...</td>\n",
       "      <td>...</td>\n",
       "      <td>...</td>\n",
       "      <td>...</td>\n",
       "      <td>...</td>\n",
       "      <td>...</td>\n",
       "    </tr>\n",
       "    <tr>\n",
       "      <th>2022-07-01</th>\n",
       "      <td>690.690002</td>\n",
       "      <td>666.359985</td>\n",
       "      <td>681.000000</td>\n",
       "      <td>681.789978</td>\n",
       "      <td>24781500.0</td>\n",
       "      <td>681.789978</td>\n",
       "    </tr>\n",
       "    <tr>\n",
       "      <th>2022-07-05</th>\n",
       "      <td>699.440002</td>\n",
       "      <td>648.500000</td>\n",
       "      <td>669.000000</td>\n",
       "      <td>699.200012</td>\n",
       "      <td>28193700.0</td>\n",
       "      <td>699.200012</td>\n",
       "    </tr>\n",
       "    <tr>\n",
       "      <th>2022-07-06</th>\n",
       "      <td>703.690002</td>\n",
       "      <td>681.559998</td>\n",
       "      <td>692.340027</td>\n",
       "      <td>695.200012</td>\n",
       "      <td>23951200.0</td>\n",
       "      <td>695.200012</td>\n",
       "    </tr>\n",
       "    <tr>\n",
       "      <th>2022-07-07</th>\n",
       "      <td>736.090027</td>\n",
       "      <td>696.630005</td>\n",
       "      <td>701.760010</td>\n",
       "      <td>733.630005</td>\n",
       "      <td>27310200.0</td>\n",
       "      <td>733.630005</td>\n",
       "    </tr>\n",
       "    <tr>\n",
       "      <th>2022-07-08</th>\n",
       "      <td>764.940002</td>\n",
       "      <td>723.479980</td>\n",
       "      <td>727.000000</td>\n",
       "      <td>752.289978</td>\n",
       "      <td>33343700.0</td>\n",
       "      <td>752.289978</td>\n",
       "    </tr>\n",
       "  </tbody>\n",
       "</table>\n",
       "<p>1259 rows × 6 columns</p>\n",
       "</div>"
      ],
      "text/plain": [
       "                  High         Low        Open       Close      Volume  \\\n",
       "Date                                                                     \n",
       "2017-07-10   63.588001   60.625999   62.580002   63.209999  69104500.0   \n",
       "2017-07-11   65.456001   62.860001   63.200001   65.444000  57797000.0   \n",
       "2017-07-12   66.620003   64.900002   66.080002   65.903999  51730500.0   \n",
       "2017-07-13   66.320000   63.993999   66.022003   64.681999  42972500.0   \n",
       "2017-07-14   65.683998   64.244003   64.638000   65.556000  28126000.0   \n",
       "...                ...         ...         ...         ...         ...   \n",
       "2022-07-01  690.690002  666.359985  681.000000  681.789978  24781500.0   \n",
       "2022-07-05  699.440002  648.500000  669.000000  699.200012  28193700.0   \n",
       "2022-07-06  703.690002  681.559998  692.340027  695.200012  23951200.0   \n",
       "2022-07-07  736.090027  696.630005  701.760010  733.630005  27310200.0   \n",
       "2022-07-08  764.940002  723.479980  727.000000  752.289978  33343700.0   \n",
       "\n",
       "             Adj Close  \n",
       "Date                    \n",
       "2017-07-10   63.209999  \n",
       "2017-07-11   65.444000  \n",
       "2017-07-12   65.903999  \n",
       "2017-07-13   64.681999  \n",
       "2017-07-14   65.556000  \n",
       "...                ...  \n",
       "2022-07-01  681.789978  \n",
       "2022-07-05  699.200012  \n",
       "2022-07-06  695.200012  \n",
       "2022-07-07  733.630005  \n",
       "2022-07-08  752.289978  \n",
       "\n",
       "[1259 rows x 6 columns]"
      ]
     },
     "execution_count": 28,
     "metadata": {},
     "output_type": "execute_result"
    }
   ],
   "source": [
    "df"
   ]
  },
  {
   "cell_type": "code",
   "execution_count": 29,
   "id": "2f88263c",
   "metadata": {},
   "outputs": [
    {
     "data": {
      "text/plain": [
       "datetime.datetime(2022, 7, 10, 10, 16, 32, 145638)"
      ]
     },
     "execution_count": 29,
     "metadata": {},
     "output_type": "execute_result"
    }
   ],
   "source": [
    "datetime.now()"
   ]
  },
  {
   "cell_type": "code",
   "execution_count": 30,
   "id": "99c1105d",
   "metadata": {},
   "outputs": [
    {
     "data": {
      "text/plain": [
       "datetime.datetime(2022, 7, 10, 10, 16, 38, 464250)"
      ]
     },
     "execution_count": 30,
     "metadata": {},
     "output_type": "execute_result"
    }
   ],
   "source": [
    "datetime.today()"
   ]
  },
  {
   "cell_type": "code",
   "execution_count": 31,
   "id": "cd251766",
   "metadata": {},
   "outputs": [
    {
     "data": {
      "text/plain": [
       "datetime.datetime(2022, 7, 10, 10, 17, 43, 697980)"
      ]
     },
     "execution_count": 31,
     "metadata": {},
     "output_type": "execute_result"
    }
   ],
   "source": [
    "datetime.now()\n",
    "datetime.today()"
   ]
  },
  {
   "cell_type": "code",
   "execution_count": 37,
   "id": "13d617f1",
   "metadata": {},
   "outputs": [
    {
     "data": {
      "text/plain": [
       "<AxesSubplot:xlabel='Date'>"
      ]
     },
     "execution_count": 37,
     "metadata": {},
     "output_type": "execute_result"
    },
    {
     "data": {
      "image/png": "[encoded data removed]",
      "text/plain": [
       "<Figure size 432x288 with 1 Axes>"
      ]
     },
     "metadata": {
      "needs_background": "light"
     },
     "output_type": "display_data"
    }
   ],
   "source": [
    "df.resample(rule='A').max()['Open'].plot(kind='bar')"
   ]
  },
  {
   "cell_type": "code",
   "execution_count": 38,
   "id": "c1a2121d",
   "metadata": {},
   "outputs": [
    {
     "data": {
      "text/plain": [
       "<AxesSubplot:xlabel='Date'>"
      ]
     },
     "execution_count": 38,
     "metadata": {},
     "output_type": "execute_result"
    },
    {
     "data": {
      "image/png": "[encoded data removed]",
      "text/plain": [
       "<Figure size 432x288 with 1 Axes>"
      ]
     },
     "metadata": {
      "needs_background": "light"
     },
     "output_type": "display_data"
    }
   ],
   "source": [
    "df.resample(rule='QS').max()['Open'].plot(kind='bar')"
   ]
  },
  {
   "cell_type": "code",
   "execution_count": null,
   "id": "8971ef6f",
   "metadata": {},
   "outputs": [],
   "source": []
  }
 ],
 "metadata": {
  "kernelspec": {
   "display_name": "Python 3 (ipykernel)",
   "language": "python",
   "name": "python3"
  },
  "language_info": {
   "codemirror_mode": {
    "name": "ipython",
    "version": 3
   },
   "file_extension": ".py",
   "mimetype": "text/x-python",
   "name": "python",
   "nbconvert_exporter": "python",
   "pygments_lexer": "ipython3",
   "version": "3.9.7"
  }
 },
 "nbformat": 4,
 "nbformat_minor": 5
}
