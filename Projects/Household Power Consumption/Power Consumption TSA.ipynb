{
 "cells": [
  {
   "cell_type": "markdown",
   "id": "c47c39c5",
   "metadata": {},
   "source": [
    "## <span style='color:purple '> 1. Import Libraries </span>"
   ]
  },
  {
   "cell_type": "code",
   "execution_count": 59,
   "id": "4f938968",
   "metadata": {},
   "outputs": [],
   "source": [
    "import numpy as np\n",
    "import pandas as pd\n",
    "import matplotlib.pyplot as plt\n",
    "\n",
    "#set floating point precision option for pandas\n",
    "pd.set_option('display.float_format', lambda x: '%.4f' % x)\n",
    "\n",
    "import seaborn as sns\n",
    "sns.set_context('paper', font_scale=1.3)\n",
    "sns.set_style('white')\n",
    "\n",
    "import warnings\n",
    "warnings.filterwarnings('ignore')\n",
    "\n",
    "from time import time\n",
    "import matplotlib.ticker as tkr\n",
    "from scipy import stats\n",
    "from statsmodels.tsa.stattools import adfuller, pacf\n",
    "\n",
    "from sklearn import preprocessing\n",
    "from sklearn.preprocessing import MinMaxScaler\n",
    "from sklearn.metrics import mean_squared_error , mean_absolute_error\n",
    "%matplotlib inline\n",
    "\n",
    "import math\n",
    "\n",
    "#Import necessary functions from keras\n",
    "import keras\n",
    "from keras.models import Sequential\n",
    "from keras.layers import Dense, LSTM, Dropout\n",
    "from keras.layers import *\n",
    "from keras.callbacks import EarlyStopping\n",
    "\n",
    "#to read zipfile\n",
    "import zipfile\n",
    "\n",
    "#to check missing values\n",
    "import missingno as mn\n",
    "\n",
    "import scipy.stats as stats"
   ]
  },
  {
   "cell_type": "markdown",
   "id": "32d767ac",
   "metadata": {},
   "source": [
    "## <span style ='color:purple'> 2. Import Data </span>"
   ]
  },
  {
   "cell_type": "code",
   "execution_count": 9,
   "id": "483aad82",
   "metadata": {},
   "outputs": [],
   "source": [
    "zip_file_path = 'cosumption_data.zip'\n",
    "file_name = 'household_power_consumption.txt'\n",
    "\n",
    "with zipfile.ZipFile(zip_file_path,'r') as folder:\n",
    "    file_list = folder.namelist()\n",
    "    for file in file_list:\n",
    "        if file == file_name:\n",
    "            with folder.open(file_name) as csv_file:\n",
    "                df = pd.read_csv(csv_file, delimiter=';')\n",
    "    "
   ]
  },
  {
   "cell_type": "code",
   "execution_count": 10,
   "id": "5377590f",
   "metadata": {},
   "outputs": [
    {
     "data": {
      "text/html": [
       "<div>\n",
       "<style scoped>\n",
       "    .dataframe tbody tr th:only-of-type {\n",
       "        vertical-align: middle;\n",
       "    }\n",
       "\n",
       "    .dataframe tbody tr th {\n",
       "        vertical-align: top;\n",
       "    }\n",
       "\n",
       "    .dataframe thead th {\n",
       "        text-align: right;\n",
       "    }\n",
       "</style>\n",
       "<table border=\"1\" class=\"dataframe\">\n",
       "  <thead>\n",
       "    <tr style=\"text-align: right;\">\n",
       "      <th></th>\n",
       "      <th>Date</th>\n",
       "      <th>Time</th>\n",
       "      <th>Global_active_power</th>\n",
       "      <th>Global_reactive_power</th>\n",
       "      <th>Voltage</th>\n",
       "      <th>Global_intensity</th>\n",
       "      <th>Sub_metering_1</th>\n",
       "      <th>Sub_metering_2</th>\n",
       "      <th>Sub_metering_3</th>\n",
       "    </tr>\n",
       "  </thead>\n",
       "  <tbody>\n",
       "    <tr>\n",
       "      <th>0</th>\n",
       "      <td>16/12/2006</td>\n",
       "      <td>17:24:00</td>\n",
       "      <td>4.216</td>\n",
       "      <td>0.418</td>\n",
       "      <td>234.840</td>\n",
       "      <td>18.400</td>\n",
       "      <td>0.000</td>\n",
       "      <td>1.000</td>\n",
       "      <td>17.0000</td>\n",
       "    </tr>\n",
       "    <tr>\n",
       "      <th>1</th>\n",
       "      <td>16/12/2006</td>\n",
       "      <td>17:25:00</td>\n",
       "      <td>5.360</td>\n",
       "      <td>0.436</td>\n",
       "      <td>233.630</td>\n",
       "      <td>23.000</td>\n",
       "      <td>0.000</td>\n",
       "      <td>1.000</td>\n",
       "      <td>16.0000</td>\n",
       "    </tr>\n",
       "    <tr>\n",
       "      <th>2</th>\n",
       "      <td>16/12/2006</td>\n",
       "      <td>17:26:00</td>\n",
       "      <td>5.374</td>\n",
       "      <td>0.498</td>\n",
       "      <td>233.290</td>\n",
       "      <td>23.000</td>\n",
       "      <td>0.000</td>\n",
       "      <td>2.000</td>\n",
       "      <td>17.0000</td>\n",
       "    </tr>\n",
       "    <tr>\n",
       "      <th>3</th>\n",
       "      <td>16/12/2006</td>\n",
       "      <td>17:27:00</td>\n",
       "      <td>5.388</td>\n",
       "      <td>0.502</td>\n",
       "      <td>233.740</td>\n",
       "      <td>23.000</td>\n",
       "      <td>0.000</td>\n",
       "      <td>1.000</td>\n",
       "      <td>17.0000</td>\n",
       "    </tr>\n",
       "    <tr>\n",
       "      <th>4</th>\n",
       "      <td>16/12/2006</td>\n",
       "      <td>17:28:00</td>\n",
       "      <td>3.666</td>\n",
       "      <td>0.528</td>\n",
       "      <td>235.680</td>\n",
       "      <td>15.800</td>\n",
       "      <td>0.000</td>\n",
       "      <td>1.000</td>\n",
       "      <td>17.0000</td>\n",
       "    </tr>\n",
       "  </tbody>\n",
       "</table>\n",
       "</div>"
      ],
      "text/plain": [
       "         Date      Time Global_active_power Global_reactive_power  Voltage  \\\n",
       "0  16/12/2006  17:24:00               4.216                 0.418  234.840   \n",
       "1  16/12/2006  17:25:00               5.360                 0.436  233.630   \n",
       "2  16/12/2006  17:26:00               5.374                 0.498  233.290   \n",
       "3  16/12/2006  17:27:00               5.388                 0.502  233.740   \n",
       "4  16/12/2006  17:28:00               3.666                 0.528  235.680   \n",
       "\n",
       "  Global_intensity Sub_metering_1 Sub_metering_2  Sub_metering_3  \n",
       "0           18.400          0.000          1.000         17.0000  \n",
       "1           23.000          0.000          1.000         16.0000  \n",
       "2           23.000          0.000          2.000         17.0000  \n",
       "3           23.000          0.000          1.000         17.0000  \n",
       "4           15.800          0.000          1.000         17.0000  "
      ]
     },
     "execution_count": 10,
     "metadata": {},
     "output_type": "execute_result"
    }
   ],
   "source": [
    "df.head()"
   ]
  },
  {
   "cell_type": "code",
   "execution_count": 25,
   "id": "c23a1bf2",
   "metadata": {},
   "outputs": [
    {
     "data": {
      "text/html": [
       "<div>\n",
       "<style scoped>\n",
       "    .dataframe tbody tr th:only-of-type {\n",
       "        vertical-align: middle;\n",
       "    }\n",
       "\n",
       "    .dataframe tbody tr th {\n",
       "        vertical-align: top;\n",
       "    }\n",
       "\n",
       "    .dataframe thead th {\n",
       "        text-align: right;\n",
       "    }\n",
       "</style>\n",
       "<table border=\"1\" class=\"dataframe\">\n",
       "  <thead>\n",
       "    <tr style=\"text-align: right;\">\n",
       "      <th></th>\n",
       "      <th>Date</th>\n",
       "      <th>Time</th>\n",
       "      <th>Global_active_power</th>\n",
       "      <th>Global_reactive_power</th>\n",
       "      <th>Voltage</th>\n",
       "      <th>Global_intensity</th>\n",
       "      <th>Sub_metering_1</th>\n",
       "      <th>Sub_metering_2</th>\n",
       "      <th>Sub_metering_3</th>\n",
       "      <th>Datetime</th>\n",
       "    </tr>\n",
       "  </thead>\n",
       "  <tbody>\n",
       "    <tr>\n",
       "      <th>2075254</th>\n",
       "      <td>26/11/2010</td>\n",
       "      <td>20:58:00</td>\n",
       "      <td>0.9460</td>\n",
       "      <td>0.0000</td>\n",
       "      <td>240.4300</td>\n",
       "      <td>4.0000</td>\n",
       "      <td>0.0000</td>\n",
       "      <td>0.0000</td>\n",
       "      <td>0.0000</td>\n",
       "      <td>2010-11-26 20:58:00</td>\n",
       "    </tr>\n",
       "    <tr>\n",
       "      <th>2075255</th>\n",
       "      <td>26/11/2010</td>\n",
       "      <td>20:59:00</td>\n",
       "      <td>0.9440</td>\n",
       "      <td>0.0000</td>\n",
       "      <td>240.0000</td>\n",
       "      <td>4.0000</td>\n",
       "      <td>0.0000</td>\n",
       "      <td>0.0000</td>\n",
       "      <td>0.0000</td>\n",
       "      <td>2010-11-26 20:59:00</td>\n",
       "    </tr>\n",
       "    <tr>\n",
       "      <th>2075256</th>\n",
       "      <td>26/11/2010</td>\n",
       "      <td>21:00:00</td>\n",
       "      <td>0.9380</td>\n",
       "      <td>0.0000</td>\n",
       "      <td>239.8200</td>\n",
       "      <td>3.8000</td>\n",
       "      <td>0.0000</td>\n",
       "      <td>0.0000</td>\n",
       "      <td>0.0000</td>\n",
       "      <td>2010-11-26 21:00:00</td>\n",
       "    </tr>\n",
       "    <tr>\n",
       "      <th>2075257</th>\n",
       "      <td>26/11/2010</td>\n",
       "      <td>21:01:00</td>\n",
       "      <td>0.9340</td>\n",
       "      <td>0.0000</td>\n",
       "      <td>239.7000</td>\n",
       "      <td>3.8000</td>\n",
       "      <td>0.0000</td>\n",
       "      <td>0.0000</td>\n",
       "      <td>0.0000</td>\n",
       "      <td>2010-11-26 21:01:00</td>\n",
       "    </tr>\n",
       "    <tr>\n",
       "      <th>2075258</th>\n",
       "      <td>26/11/2010</td>\n",
       "      <td>21:02:00</td>\n",
       "      <td>0.9320</td>\n",
       "      <td>0.0000</td>\n",
       "      <td>239.5500</td>\n",
       "      <td>3.8000</td>\n",
       "      <td>0.0000</td>\n",
       "      <td>0.0000</td>\n",
       "      <td>0.0000</td>\n",
       "      <td>2010-11-26 21:02:00</td>\n",
       "    </tr>\n",
       "  </tbody>\n",
       "</table>\n",
       "</div>"
      ],
      "text/plain": [
       "               Date      Time Global_active_power Global_reactive_power  \\\n",
       "2075254  26/11/2010  20:58:00              0.9460                0.0000   \n",
       "2075255  26/11/2010  20:59:00              0.9440                0.0000   \n",
       "2075256  26/11/2010  21:00:00              0.9380                0.0000   \n",
       "2075257  26/11/2010  21:01:00              0.9340                0.0000   \n",
       "2075258  26/11/2010  21:02:00              0.9320                0.0000   \n",
       "\n",
       "         Voltage Global_intensity Sub_metering_1 Sub_metering_2  \\\n",
       "2075254 240.4300           4.0000         0.0000         0.0000   \n",
       "2075255 240.0000           4.0000         0.0000         0.0000   \n",
       "2075256 239.8200           3.8000         0.0000         0.0000   \n",
       "2075257 239.7000           3.8000         0.0000         0.0000   \n",
       "2075258 239.5500           3.8000         0.0000         0.0000   \n",
       "\n",
       "         Sub_metering_3            Datetime  \n",
       "2075254          0.0000 2010-11-26 20:58:00  \n",
       "2075255          0.0000 2010-11-26 20:59:00  \n",
       "2075256          0.0000 2010-11-26 21:00:00  \n",
       "2075257          0.0000 2010-11-26 21:01:00  \n",
       "2075258          0.0000 2010-11-26 21:02:00  "
      ]
     },
     "execution_count": 25,
     "metadata": {},
     "output_type": "execute_result"
    }
   ],
   "source": [
    "df.tail()"
   ]
  },
  {
   "cell_type": "code",
   "execution_count": 11,
   "id": "2138315b",
   "metadata": {},
   "outputs": [
    {
     "data": {
      "text/plain": [
       "(2075259, 9)"
      ]
     },
     "execution_count": 11,
     "metadata": {},
     "output_type": "execute_result"
    }
   ],
   "source": [
    "df.shape"
   ]
  },
  {
   "cell_type": "code",
   "execution_count": 12,
   "id": "c44c7782",
   "metadata": {
    "scrolled": true
   },
   "outputs": [
    {
     "name": "stdout",
     "output_type": "stream",
     "text": [
      "<class 'pandas.core.frame.DataFrame'>\n",
      "RangeIndex: 2075259 entries, 0 to 2075258\n",
      "Data columns (total 9 columns):\n",
      " #   Column                 Dtype  \n",
      "---  ------                 -----  \n",
      " 0   Date                   object \n",
      " 1   Time                   object \n",
      " 2   Global_active_power    object \n",
      " 3   Global_reactive_power  object \n",
      " 4   Voltage                object \n",
      " 5   Global_intensity       object \n",
      " 6   Sub_metering_1         object \n",
      " 7   Sub_metering_2         object \n",
      " 8   Sub_metering_3         float64\n",
      "dtypes: float64(1), object(8)\n",
      "memory usage: 142.5+ MB\n"
     ]
    }
   ],
   "source": [
    "df.info()"
   ]
  },
  {
   "cell_type": "code",
   "execution_count": 26,
   "id": "2ec80b5f",
   "metadata": {},
   "outputs": [
    {
     "data": {
      "text/plain": [
       "Date                         0\n",
       "Time                         0\n",
       "Global_active_power          0\n",
       "Global_reactive_power        0\n",
       "Voltage                      0\n",
       "Global_intensity             0\n",
       "Sub_metering_1               0\n",
       "Sub_metering_2               0\n",
       "Sub_metering_3           25979\n",
       "Datetime                     0\n",
       "dtype: int64"
      ]
     },
     "execution_count": 26,
     "metadata": {},
     "output_type": "execute_result"
    }
   ],
   "source": [
    "df.isna().sum()"
   ]
  },
  {
   "cell_type": "markdown",
   "id": "11fbf15e",
   "metadata": {},
   "source": [
    "## <span style ='color:purple'> 3. Feature Engineering </span>"
   ]
  },
  {
   "cell_type": "markdown",
   "id": "8f1c3471",
   "metadata": {},
   "source": [
    "* Convert 'Date' and 'Time' column to single 'Datetime' column"
   ]
  },
  {
   "cell_type": "code",
   "execution_count": 13,
   "id": "0ad29059",
   "metadata": {},
   "outputs": [],
   "source": [
    "df['Datetime'] = pd.to_datetime(df['Date']+' '+df['Time'])"
   ]
  },
  {
   "cell_type": "code",
   "execution_count": 24,
   "id": "3d141a9b",
   "metadata": {},
   "outputs": [
    {
     "data": {
      "text/plain": [
       "dtype('<M8[ns]')"
      ]
     },
     "execution_count": 24,
     "metadata": {},
     "output_type": "execute_result"
    }
   ],
   "source": [
    "df['Datetime'].dtype"
   ]
  },
  {
   "cell_type": "markdown",
   "id": "7c2e0b7e",
   "metadata": {},
   "source": [
    "* Convert other features to numeric format"
   ]
  },
  {
   "cell_type": "code",
   "execution_count": 32,
   "id": "5a9fb7a9",
   "metadata": {},
   "outputs": [],
   "source": [
    "for feat in df.columns.drop(['Date','Time','Datetime']):\n",
    "    df[feat] = pd.to_numeric(df[feat],errors='coerce')"
   ]
  },
  {
   "cell_type": "code",
   "execution_count": 33,
   "id": "8630dcd2",
   "metadata": {},
   "outputs": [
    {
     "name": "stdout",
     "output_type": "stream",
     "text": [
      "<class 'pandas.core.frame.DataFrame'>\n",
      "RangeIndex: 2075259 entries, 0 to 2075258\n",
      "Data columns (total 10 columns):\n",
      " #   Column                 Dtype         \n",
      "---  ------                 -----         \n",
      " 0   Date                   object        \n",
      " 1   Time                   object        \n",
      " 2   Global_active_power    float64       \n",
      " 3   Global_reactive_power  float64       \n",
      " 4   Voltage                float64       \n",
      " 5   Global_intensity       float64       \n",
      " 6   Sub_metering_1         float64       \n",
      " 7   Sub_metering_2         float64       \n",
      " 8   Sub_metering_3         float64       \n",
      " 9   Datetime               datetime64[ns]\n",
      "dtypes: datetime64[ns](1), float64(7), object(2)\n",
      "memory usage: 158.3+ MB\n"
     ]
    }
   ],
   "source": [
    "df.info()"
   ]
  },
  {
   "cell_type": "markdown",
   "id": "b5f07807",
   "metadata": {},
   "source": [
    "* Handling Missing Values"
   ]
  },
  {
   "cell_type": "code",
   "execution_count": 34,
   "id": "5721d58f",
   "metadata": {},
   "outputs": [
    {
     "data": {
      "text/plain": [
       "Date                         0\n",
       "Time                         0\n",
       "Global_active_power      25979\n",
       "Global_reactive_power    25979\n",
       "Voltage                  25979\n",
       "Global_intensity         25979\n",
       "Sub_metering_1           25979\n",
       "Sub_metering_2           25979\n",
       "Sub_metering_3           25979\n",
       "Datetime                     0\n",
       "dtype: int64"
      ]
     },
     "execution_count": 34,
     "metadata": {},
     "output_type": "execute_result"
    }
   ],
   "source": [
    "df.isna().sum()"
   ]
  },
  {
   "cell_type": "code",
   "execution_count": 36,
   "id": "c930b42c",
   "metadata": {},
   "outputs": [
    {
     "data": {
      "text/plain": [
       "<AxesSubplot:>"
      ]
     },
     "execution_count": 36,
     "metadata": {},
     "output_type": "execute_result"
    },
    {
     "data": {
      "image/png": "[encoded data removed]",
      "text/plain": [
       "<Figure size 720x720 with 2 Axes>"
      ]
     },
     "metadata": {
      "needs_background": "light"
     },
     "output_type": "display_data"
    }
   ],
   "source": [
    "mn.matrix(df,figsize=(10,10))"
   ]
  },
  {
   "cell_type": "code",
   "execution_count": 45,
   "id": "32156627",
   "metadata": {},
   "outputs": [
    {
     "name": "stdout",
     "output_type": "stream",
     "text": [
      "Missing data : 1.25 %\n"
     ]
    }
   ],
   "source": [
    "print('Missing data :',round((df['Global_active_power'].isna().sum()/df.shape[0])*100,2),'%')"
   ]
  },
  {
   "cell_type": "markdown",
   "id": "74f60e12",
   "metadata": {},
   "source": [
    "* data is missing in chunks and less that 5% data is missing so we can drop the data"
   ]
  },
  {
   "cell_type": "code",
   "execution_count": 47,
   "id": "04e2fb38",
   "metadata": {},
   "outputs": [],
   "source": [
    "df.dropna(inplace=True)"
   ]
  },
  {
   "cell_type": "code",
   "execution_count": 53,
   "id": "e1aa336d",
   "metadata": {},
   "outputs": [
    {
     "data": {
      "text/plain": [
       "(2049280, 14)"
      ]
     },
     "execution_count": 53,
     "metadata": {},
     "output_type": "execute_result"
    }
   ],
   "source": [
    "df.shape"
   ]
  },
  {
   "cell_type": "markdown",
   "id": "f18be207",
   "metadata": {},
   "source": [
    "* Create new columns for year, quarter, month, and day"
   ]
  },
  {
   "cell_type": "code",
   "execution_count": 48,
   "id": "cfd2d2e1",
   "metadata": {},
   "outputs": [],
   "source": [
    "df['year'] = df['Datetime'].apply(lambda x: x.year)\n",
    "df['quarter'] = df['Datetime'].apply(lambda x: x.quarter)\n",
    "df['month'] = df['Datetime'].apply(lambda x: x.month)\n",
    "df['day'] = df['Datetime'].apply(lambda x: x.day)"
   ]
  },
  {
   "cell_type": "markdown",
   "id": "cc0b046c",
   "metadata": {},
   "source": [
    "* selecting necessary columns only "
   ]
  },
  {
   "cell_type": "code",
   "execution_count": 49,
   "id": "88de1a12",
   "metadata": {},
   "outputs": [],
   "source": [
    "df_2 = df.loc[:,['Datetime','Global_active_power','year','quarter','month','day']]"
   ]
  },
  {
   "cell_type": "markdown",
   "id": "d3c358b8",
   "metadata": {},
   "source": [
    "* Sort data by datetime in ascending order"
   ]
  },
  {
   "cell_type": "code",
   "execution_count": 50,
   "id": "1d9b593c",
   "metadata": {},
   "outputs": [],
   "source": [
    "df_2.sort_values('Datetime',inplace=True, ascending=True)"
   ]
  },
  {
   "cell_type": "markdown",
   "id": "c3d72d4d",
   "metadata": {},
   "source": [
    "* Reset the index"
   ]
  },
  {
   "cell_type": "code",
   "execution_count": 51,
   "id": "5876a0d7",
   "metadata": {},
   "outputs": [],
   "source": [
    "df_2 = df_2.reset_index(drop=True)"
   ]
  },
  {
   "cell_type": "markdown",
   "id": "7e053788",
   "metadata": {},
   "source": [
    "* Create new column 'weekday' that indicates if the day is weekday or weekend"
   ]
  },
  {
   "cell_type": "code",
   "execution_count": 52,
   "id": "54fd6c22",
   "metadata": {},
   "outputs": [],
   "source": [
    "df_2['weekday'] = df_2['Datetime'].apply(lambda x:x.weekday()<5).astype(int)"
   ]
  },
  {
   "cell_type": "code",
   "execution_count": 54,
   "id": "b68a293f",
   "metadata": {},
   "outputs": [
    {
     "name": "stdout",
     "output_type": "stream",
     "text": [
      "Minimun datetime : 2006-12-16 17:24:00\n",
      "Maximum datetime : 2010-12-11 23:59:00\n"
     ]
    }
   ],
   "source": [
    "print(\"Minimun datetime :\", df_2.Datetime.min())\n",
    "print(\"Maximum datetime :\", df_2.Datetime.max())"
   ]
  },
  {
   "cell_type": "code",
   "execution_count": 57,
   "id": "e25df933",
   "metadata": {},
   "outputs": [
    {
     "data": {
      "text/html": [
       "<div>\n",
       "<style scoped>\n",
       "    .dataframe tbody tr th:only-of-type {\n",
       "        vertical-align: middle;\n",
       "    }\n",
       "\n",
       "    .dataframe tbody tr th {\n",
       "        vertical-align: top;\n",
       "    }\n",
       "\n",
       "    .dataframe thead th {\n",
       "        text-align: right;\n",
       "    }\n",
       "</style>\n",
       "<table border=\"1\" class=\"dataframe\">\n",
       "  <thead>\n",
       "    <tr style=\"text-align: right;\">\n",
       "      <th></th>\n",
       "      <th>Datetime</th>\n",
       "      <th>Global_active_power</th>\n",
       "      <th>year</th>\n",
       "      <th>quarter</th>\n",
       "      <th>month</th>\n",
       "      <th>day</th>\n",
       "      <th>weekday</th>\n",
       "    </tr>\n",
       "  </thead>\n",
       "  <tbody>\n",
       "    <tr>\n",
       "      <th>0</th>\n",
       "      <td>2006-12-16 17:24:00</td>\n",
       "      <td>4.2160</td>\n",
       "      <td>2006</td>\n",
       "      <td>4</td>\n",
       "      <td>12</td>\n",
       "      <td>16</td>\n",
       "      <td>0</td>\n",
       "    </tr>\n",
       "    <tr>\n",
       "      <th>1</th>\n",
       "      <td>2006-12-16 17:25:00</td>\n",
       "      <td>5.3600</td>\n",
       "      <td>2006</td>\n",
       "      <td>4</td>\n",
       "      <td>12</td>\n",
       "      <td>16</td>\n",
       "      <td>0</td>\n",
       "    </tr>\n",
       "    <tr>\n",
       "      <th>2</th>\n",
       "      <td>2006-12-16 17:26:00</td>\n",
       "      <td>5.3740</td>\n",
       "      <td>2006</td>\n",
       "      <td>4</td>\n",
       "      <td>12</td>\n",
       "      <td>16</td>\n",
       "      <td>0</td>\n",
       "    </tr>\n",
       "    <tr>\n",
       "      <th>3</th>\n",
       "      <td>2006-12-16 17:27:00</td>\n",
       "      <td>5.3880</td>\n",
       "      <td>2006</td>\n",
       "      <td>4</td>\n",
       "      <td>12</td>\n",
       "      <td>16</td>\n",
       "      <td>0</td>\n",
       "    </tr>\n",
       "    <tr>\n",
       "      <th>4</th>\n",
       "      <td>2006-12-16 17:28:00</td>\n",
       "      <td>3.6660</td>\n",
       "      <td>2006</td>\n",
       "      <td>4</td>\n",
       "      <td>12</td>\n",
       "      <td>16</td>\n",
       "      <td>0</td>\n",
       "    </tr>\n",
       "  </tbody>\n",
       "</table>\n",
       "</div>"
      ],
      "text/plain": [
       "             Datetime  Global_active_power  year  quarter  month  day  weekday\n",
       "0 2006-12-16 17:24:00               4.2160  2006        4     12   16        0\n",
       "1 2006-12-16 17:25:00               5.3600  2006        4     12   16        0\n",
       "2 2006-12-16 17:26:00               5.3740  2006        4     12   16        0\n",
       "3 2006-12-16 17:27:00               5.3880  2006        4     12   16        0\n",
       "4 2006-12-16 17:28:00               3.6660  2006        4     12   16        0"
      ]
     },
     "execution_count": 57,
     "metadata": {},
     "output_type": "execute_result"
    }
   ],
   "source": [
    "df_2.head()"
   ]
  },
  {
   "cell_type": "code",
   "execution_count": 58,
   "id": "d085c38c",
   "metadata": {},
   "outputs": [
    {
     "data": {
      "text/html": [
       "<div>\n",
       "<style scoped>\n",
       "    .dataframe tbody tr th:only-of-type {\n",
       "        vertical-align: middle;\n",
       "    }\n",
       "\n",
       "    .dataframe tbody tr th {\n",
       "        vertical-align: top;\n",
       "    }\n",
       "\n",
       "    .dataframe thead th {\n",
       "        text-align: right;\n",
       "    }\n",
       "</style>\n",
       "<table border=\"1\" class=\"dataframe\">\n",
       "  <thead>\n",
       "    <tr style=\"text-align: right;\">\n",
       "      <th></th>\n",
       "      <th>Datetime</th>\n",
       "      <th>Global_active_power</th>\n",
       "      <th>year</th>\n",
       "      <th>quarter</th>\n",
       "      <th>month</th>\n",
       "      <th>day</th>\n",
       "      <th>weekday</th>\n",
       "    </tr>\n",
       "  </thead>\n",
       "  <tbody>\n",
       "    <tr>\n",
       "      <th>2049275</th>\n",
       "      <td>2010-12-11 23:55:00</td>\n",
       "      <td>0.6900</td>\n",
       "      <td>2010</td>\n",
       "      <td>4</td>\n",
       "      <td>12</td>\n",
       "      <td>11</td>\n",
       "      <td>0</td>\n",
       "    </tr>\n",
       "    <tr>\n",
       "      <th>2049276</th>\n",
       "      <td>2010-12-11 23:56:00</td>\n",
       "      <td>0.6880</td>\n",
       "      <td>2010</td>\n",
       "      <td>4</td>\n",
       "      <td>12</td>\n",
       "      <td>11</td>\n",
       "      <td>0</td>\n",
       "    </tr>\n",
       "    <tr>\n",
       "      <th>2049277</th>\n",
       "      <td>2010-12-11 23:57:00</td>\n",
       "      <td>0.6880</td>\n",
       "      <td>2010</td>\n",
       "      <td>4</td>\n",
       "      <td>12</td>\n",
       "      <td>11</td>\n",
       "      <td>0</td>\n",
       "    </tr>\n",
       "    <tr>\n",
       "      <th>2049278</th>\n",
       "      <td>2010-12-11 23:58:00</td>\n",
       "      <td>0.6880</td>\n",
       "      <td>2010</td>\n",
       "      <td>4</td>\n",
       "      <td>12</td>\n",
       "      <td>11</td>\n",
       "      <td>0</td>\n",
       "    </tr>\n",
       "    <tr>\n",
       "      <th>2049279</th>\n",
       "      <td>2010-12-11 23:59:00</td>\n",
       "      <td>0.6880</td>\n",
       "      <td>2010</td>\n",
       "      <td>4</td>\n",
       "      <td>12</td>\n",
       "      <td>11</td>\n",
       "      <td>0</td>\n",
       "    </tr>\n",
       "  </tbody>\n",
       "</table>\n",
       "</div>"
      ],
      "text/plain": [
       "                   Datetime  Global_active_power  year  quarter  month  day  \\\n",
       "2049275 2010-12-11 23:55:00               0.6900  2010        4     12   11   \n",
       "2049276 2010-12-11 23:56:00               0.6880  2010        4     12   11   \n",
       "2049277 2010-12-11 23:57:00               0.6880  2010        4     12   11   \n",
       "2049278 2010-12-11 23:58:00               0.6880  2010        4     12   11   \n",
       "2049279 2010-12-11 23:59:00               0.6880  2010        4     12   11   \n",
       "\n",
       "         weekday  \n",
       "2049275        0  \n",
       "2049276        0  \n",
       "2049277        0  \n",
       "2049278        0  \n",
       "2049279        0  "
      ]
     },
     "execution_count": 58,
     "metadata": {},
     "output_type": "execute_result"
    }
   ],
   "source": [
    "df_2.tail()"
   ]
  },
  {
   "cell_type": "markdown",
   "id": "0f87825a",
   "metadata": {},
   "source": [
    "## <span style='color:purple'> 4. Testing for Normality</span>"
   ]
  },
  {
   "cell_type": "markdown",
   "id": "396947e1",
   "metadata": {},
   "source": [
    "* Testing for Normality\n",
    "\n",
    "    - We will use D'Agostino's K^2 test to determine if our data is normally distributed.\n",
    "    - If p <= alpha, will reject the null hypothesis (H0) and conclude the the data is not normally distributed.\n",
    "    - If p > alpha, will accept null hypothesis and conclude that the data is normal."
   ]
  },
  {
   "cell_type": "code",
   "execution_count": 60,
   "id": "acade5be",
   "metadata": {},
   "outputs": [
    {
     "name": "stdout",
     "output_type": "stream",
     "text": [
      "Statistics = 724881.795, p=0.000\n",
      "Data does not look Gaussian(reject H0)\n"
     ]
    }
   ],
   "source": [
    "#calculate the test statistics and p-value\n",
    "stat, p = stats.normaltest(df_2.Global_active_power)\n",
    "\n",
    "print('Statistics = %.3f, p=%.3f' %(stat,p))\n",
    "\n",
    "alpha = 0.05\n",
    "\n",
    "if p > alpha:\n",
    "    print('Data looks Gaussian (fail to reject H0)')\n",
    "else:\n",
    "    print('Data does not look Gaussian(reject H0)')"
   ]
  },
  {
   "cell_type": "code",
   "execution_count": 62,
   "id": "0298d5be",
   "metadata": {},
   "outputs": [
    {
     "name": "stdout",
     "output_type": "stream",
     "text": [
      "Kurtosis of normal distribution : 4.218671866132123\n",
      "Skewness of normal distribution : 1.7862320846320832\n"
     ]
    },
    {
     "data": {
      "image/png": "[encoded data removed]",
      "text/plain": [
       "<Figure size 432x288 with 1 Axes>"
      ]
     },
     "metadata": {
      "needs_background": "light"
     },
     "output_type": "display_data"
    }
   ],
   "source": [
    "sns.distplot(df_2['Global_active_power'], color='purple')\n",
    "print('Kurtosis of normal distribution : {}'.format(stats.kurtosis(df_2['Global_active_power'])))\n",
    "print('Skewness of normal distribution : {}'.format(stats.skew(df_2['Global_active_power'])))"
   ]
  },
  {
   "cell_type": "markdown",
   "id": "b6f89405",
   "metadata": {},
   "source": [
    "- The kurtosis is positive that indicates heavier tail\n",
    "- Skewness is greater than 1 that indicates data is highly skewed"
   ]
  },
  {
   "cell_type": "markdown",
   "id": "276201db",
   "metadata": {},
   "source": [
    "## <span style ='color:purple'> "
   ]
  }
 ],
 "metadata": {
  "kernelspec": {
   "display_name": "Python 3 (ipykernel)",
   "language": "python",
   "name": "python3"
  },
  "language_info": {
   "codemirror_mode": {
    "name": "ipython",
    "version": 3
   },
   "file_extension": ".py",
   "mimetype": "text/x-python",
   "name": "python",
   "nbconvert_exporter": "python",
   "pygments_lexer": "ipython3",
   "version": "3.9.7"
  }
 },
 "nbformat": 4,
 "nbformat_minor": 5
}
